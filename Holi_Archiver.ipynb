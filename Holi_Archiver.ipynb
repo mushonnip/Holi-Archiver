{
  "cells": [
    {
      "cell_type": "markdown",
      "metadata": {
        "colab_type": "text",
        "id": "view-in-github"
      },
      "source": [
        "<a href=\"https://colab.research.google.com/github/mushonnip/Holi-Archiver/blob/main/Holi_Archiver.ipynb\" target=\"_parent\"><img src=\"https://colab.research.google.com/assets/colab-badge.svg\" alt=\"Open In Colab\"/></a>"
      ]
    },
    {
      "cell_type": "markdown",
      "metadata": {
        "id": "WJ9XTTtVzHfX"
      },
      "source": [
        "##Mount Google Drive"
      ]
    },
    {
      "cell_type": "code",
      "execution_count": 18,
      "metadata": {
        "cellView": "form",
        "id": "tPuLCnbGFmxo",
        "vscode": {
          "languageId": "python"
        }
      },
      "outputs": [],
      "source": [
        "%%capture\n",
        "#@markdown <br><center><img src='https://upload.wikimedia.org/wikipedia/commons/thumb/d/da/Google_Drive_logo.png/600px-Google_Drive_logo.png' height=\"50\" alt=\"Gdrive-logo\"/></center>\n",
        "#@markdown <center><h3>Mount Gdrive to /content/drive</h3></center><br>\n",
        "#Mount your Gdrive! \n",
        "from google.colab import drive\n",
        "drive.mount._DEBUG = False\n",
        "drive.mount('/content/drive', force_remount=True)"
      ]
    },
    {
      "cell_type": "markdown",
      "metadata": {
        "id": "4pTdf-75d7It"
      },
      "source": [
        "## Main"
      ]
    },
    {
      "cell_type": "markdown",
      "metadata": {
        "id": "XCbStSzAjWK4"
      },
      "source": [
        "### Init"
      ]
    },
    {
      "cell_type": "code",
      "execution_count": 19,
      "metadata": {
        "cellView": "form",
        "id": "BdxczAg_rqzD",
        "vscode": {
          "languageId": "python"
        }
      },
      "outputs": [],
      "source": [
        "%%capture\n",
        "# Install streamlink\n",
        "#@markdown <center><h2>Initializing</h2></center><br>\n",
        "!pip install streamlink\n",
        "\n",
        "# Change Local Time\n",
        "!rm /etc/localtime\n",
        "!ln -s /usr/share/zoneinfo/Asia/Jakarta /etc/localtime\n",
        "\n",
        "import requests\n",
        "\n",
        "def getVideoMetadata(id):\n",
        "  return requests.get('https://holodex.net/api/v2/videos/'+id).json()"
      ]
    },
    {
      "cell_type": "markdown",
      "metadata": {
        "id": "g0dZFVP0jdlo"
      },
      "source": [
        "### Run"
      ]
    },
    {
      "cell_type": "code",
      "execution_count": null,
      "metadata": {
        "id": "8oZzjOZu3AYI",
        "vscode": {
          "languageId": "python"
        }
      },
      "outputs": [],
      "source": [
        "import os\n",
        "import time\n",
        "import streamlink\n",
        "\n",
        "import subprocess\n",
        "from IPython.display import clear_output\n",
        "RUN_Dir = \"/content/drive/MyDrive/stream\"\n",
        "\n",
        "#@markdown ####Type stream url\n",
        "#Example: https://www.youtube.com/watch?v=xxx\n",
        "streamURL =  \"\"  # @param {type:\"string\"}\n",
        "\n",
        "metadata = getVideoMetadata(streamURL.split('=')[1])\n",
        "title = metadata['title'].replace('/', '-')\n",
        "tempo = time.strftime('_%d-%m-%Y_%H-%M-%S') # time is in GMT +7, change it in ititial code if you want\n",
        "\n",
        "!cd {RUN_Dir} && streamlink --plugin-dirs {RUN_Dir} {streamURL} best -o \"{RUN_Dir}/{title}{tempo}.mp4\" --retry-streams 30 --retry-max 300"
      ]
    }
  ],
  "metadata": {
    "colab": {
      "collapsed_sections": [
        "WJ9XTTtVzHfX",
        "kGSxGY3F6saA"
      ],
      "include_colab_link": true,
      "name": "Holi Archiver.ipynb",
      "provenance": [],
      "toc_visible": true
    },
    "kernelspec": {
      "display_name": "Python 3",
      "name": "python3"
    }
  },
  "nbformat": 4,
  "nbformat_minor": 0
}
