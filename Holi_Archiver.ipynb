{
  "nbformat": 4,
  "nbformat_minor": 0,
  "metadata": {
    "colab": {
      "name": "Holi Archiver.ipynb",
      "provenance": [],
      "collapsed_sections": [
        "WJ9XTTtVzHfX",
        "kGSxGY3F6saA"
      ],
      "toc_visible": true,
      "include_colab_link": true
    },
    "kernelspec": {
      "name": "python3",
      "display_name": "Python 3"
    }
  },
  "cells": [
    {
      "cell_type": "markdown",
      "metadata": {
        "id": "view-in-github",
        "colab_type": "text"
      },
      "source": [
        "<a href=\"https://colab.research.google.com/github/mushonnip/Holi-Archiver/blob/main/Holi_Archiver.ipynb\" target=\"_parent\"><img src=\"https://colab.research.google.com/assets/colab-badge.svg\" alt=\"Open In Colab\"/></a>"
      ]
    },
    {
      "cell_type": "markdown",
      "metadata": {
        "id": "WJ9XTTtVzHfX"
      },
      "source": [
        "##Mount Google Drive"
      ]
    },
    {
      "cell_type": "code",
      "metadata": {
        "id": "tPuLCnbGFmxo",
        "cellView": "form"
      },
      "source": [
        "%%capture\n",
        "#@markdown <br><center><img src='https://upload.wikimedia.org/wikipedia/commons/thumb/d/da/Google_Drive_logo.png/600px-Google_Drive_logo.png' height=\"50\" alt=\"Gdrive-logo\"/></center>\n",
        "#@markdown <center><h3>Mount Gdrive to /content/drive</h3></center><br>\n",
        "#Mount your Gdrive! \n",
        "from google.colab import drive\n",
        "drive.mount._DEBUG = False\n",
        "drive.mount('/content/drive', force_remount=True)"
      ],
      "execution_count": 18,
      "outputs": []
    },
    {
      "cell_type": "markdown",
      "metadata": {
        "id": "4pTdf-75d7It"
      },
      "source": [
        "## Main"
      ]
    },
    {
      "cell_type": "markdown",
      "source": [
        "### Init"
      ],
      "metadata": {
        "id": "XCbStSzAjWK4"
      }
    },
    {
      "cell_type": "code",
      "metadata": {
        "id": "BdxczAg_rqzD",
        "cellView": "form"
      },
      "source": [
        "%%capture\n",
        "# Install streamlink\n",
        "#@markdown <center><h2>Initializing</h2></center><br>\n",
        "!pip install streamlink\n",
        "\n",
        "# Change Local Time\n",
        "!rm /etc/localtime\n",
        "!ln -s /usr/share/zoneinfo/Asia/Jakarta /etc/localtime\n",
        "\n",
        "import requests\n",
        "\n",
        "def getVideoMetadata(id):\n",
        "  return requests.get('https://holodex.net/api/v2/videos/'+id).json()"
      ],
      "execution_count": 19,
      "outputs": []
    },
    {
      "cell_type": "markdown",
      "source": [
        "### Run"
      ],
      "metadata": {
        "id": "g0dZFVP0jdlo"
      }
    },
    {
      "cell_type": "code",
      "source": [
        "import os\n",
        "import time\n",
        "import streamlink\n",
        "\n",
        "import subprocess\n",
        "from IPython.display import clear_output\n",
        "RUN_Dir = \"/content/drive/MyDrive/stream\"\n",
        "\n",
        "#@markdown ####Type stream url\n",
        "#Example: https://www.youtube.com/watch?v=xxx\n",
        "streamURL =  \"\"  # @param {type:\"string\"}\n",
        "\n",
        "metadata = getVideoMetadata(streamURL.split('=')[1])\n",
        "title = metadata['title']\n",
        "tempo = time.strftime('_%d-%m-%Y_%H-%M-%S') # time is in GMT +7, change it in ititial code if you want\n",
        "\n",
        "!cd {RUN_Dir} && streamlink --plugin-dirs {RUN_Dir} {streamURL} best -o \"{RUN_Dir}/{title}{tempo}.mp4\" --retry-streams 30 --retry-max 300"
      ],
      "metadata": {
        "id": "8oZzjOZu3AYI"
      },
      "execution_count": null,
      "outputs": []
    },
    {
      "cell_type": "markdown",
      "source": [
        "## WIP (Work in Progress)"
      ],
      "metadata": {
        "id": "1ulgKMhzi1_e"
      }
    },
    {
      "cell_type": "code",
      "source": [
        "manual_stream_url = None #@param {type:\"raw\"}\n",
        "Risu = 'UCOyYb1c43VlX9rc_lT6NKQw',\n",
        "Moona = 'UCP0BspO_AMEe3aQqqpo89Dg',\n",
        "Iofi = 'UCAoy6rzhSf4ydcYjJw3WoVg',\n",
        "Ollie = 'UCYz_5n-uDuChHtLo7My1HnQ',\n",
        "Anya = 'UC727SQYUvx5pDDGQpTICNWg',\n",
        "Reine = 'UChgTyjG-pdNvxxhdsXfHQ5Q',\n",
        "Zeta = 'UCTvHWSfBZgtxE4sILOaurIQ',\n",
        "Kaela = 'UCZLZ8Jjx_RN2CXloOmgTHVg'\n",
        "Kobo = 'UCjLEmnpCNeisMxy134KPwWw',\n",
        "\n",
        "channel_select = Kobo #@param [\"manual\", \"Risu\",\"Moona\",\"Iofi\",\"Ollie\",\"Anya\",\"Reine\",\"Zeta\",\"Kaela\",\"Kobo\"] {type:\"raw\"}\n",
        "\n",
        "print(channel_select)"
      ],
      "metadata": {
        "id": "1hQuVOIYi8jG"
      },
      "execution_count": null,
      "outputs": []
    }
  ]
}